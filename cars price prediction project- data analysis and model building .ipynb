{
 "cells": [
  {
   "cell_type": "code",
   "execution_count": 35,
   "id": "56245420",
   "metadata": {},
   "outputs": [],
   "source": [
    "#importing essential libraries\n",
    "\n",
    "import pandas as pd \n",
    "import numpy as np\n",
    "import matplotlib.pyplot as plt\n",
    "import seaborn as sns\n",
    "from sklearn.model_selection import train_test_split,GridSearchCV,cross_val_score\n",
    "from sklearn.preprocessing import StandardScaler,MinMaxScaler,power_transform\n",
    "from sklearn.linear_model import LinearRegression,LogisticRegression\n",
    "from sklearn.metrics import r2_score, mean_squared_error,accuracy_score,roc_auc_score,roc_curve,confusion_matrix,classification_report\n",
    "from sklearn.neighbors import KNeighborsClassifier\n",
    "from sklearn.ensemble import AdaBoostRegressor,GradientBoostingClassifier\n",
    "import warnings\n",
    "warnings.filterwarnings('ignore')\n",
    "from sklearn import preprocessing\n",
    "import scipy.stats as stats\n",
    "from scipy.stats import zscore\n",
    "from sklearn.svm import SVC\n",
    "from sklearn.tree import DecisionTreeClassifier\n",
    "from sklearn.naive_bayes import MultinomialNB\n",
    "  "
   ]
  },
  {
   "cell_type": "code",
   "execution_count": 36,
   "id": "94721435",
   "metadata": {},
   "outputs": [
    {
     "data": {
      "text/html": [
       "<div>\n",
       "<style scoped>\n",
       "    .dataframe tbody tr th:only-of-type {\n",
       "        vertical-align: middle;\n",
       "    }\n",
       "\n",
       "    .dataframe tbody tr th {\n",
       "        vertical-align: top;\n",
       "    }\n",
       "\n",
       "    .dataframe thead th {\n",
       "        text-align: right;\n",
       "    }\n",
       "</style>\n",
       "<table border=\"1\" class=\"dataframe\">\n",
       "  <thead>\n",
       "    <tr style=\"text-align: right;\">\n",
       "      <th></th>\n",
       "      <th>Unnamed: 0</th>\n",
       "      <th>Brand</th>\n",
       "      <th>model</th>\n",
       "      <th>manufacturing year</th>\n",
       "      <th>city/state</th>\n",
       "      <th>fuel</th>\n",
       "      <th>owner</th>\n",
       "      <th>km</th>\n",
       "      <th>price</th>\n",
       "      <th>EMI</th>\n",
       "      <th>down payment</th>\n",
       "    </tr>\n",
       "  </thead>\n",
       "  <tbody>\n",
       "    <tr>\n",
       "      <th>0</th>\n",
       "      <td>0</td>\n",
       "      <td>Maruti Swift Dzire</td>\n",
       "      <td>VXI Manual</td>\n",
       "      <td>2010.0</td>\n",
       "      <td>DL-7C</td>\n",
       "      <td>Petrol</td>\n",
       "      <td>1st Owner</td>\n",
       "      <td>29,667 km</td>\n",
       "      <td>₹2,51,299</td>\n",
       "      <td>₹4,913/month</td>\n",
       "      <td>Zero Down Payment</td>\n",
       "    </tr>\n",
       "    <tr>\n",
       "      <th>1</th>\n",
       "      <td>1</td>\n",
       "      <td>Hyundai Grand i10</td>\n",
       "      <td>SPORTZ 1.2 KAPPA VTVT Manual</td>\n",
       "      <td>2018.0</td>\n",
       "      <td>UP-16</td>\n",
       "      <td>Petrol</td>\n",
       "      <td>2nd Owner</td>\n",
       "      <td>6,875 km</td>\n",
       "      <td>₹5,26,599</td>\n",
       "      <td>₹10,295/month</td>\n",
       "      <td>Zero Down Payment</td>\n",
       "    </tr>\n",
       "    <tr>\n",
       "      <th>2</th>\n",
       "      <td>2</td>\n",
       "      <td>Maruti Swift</td>\n",
       "      <td>LXI Manual</td>\n",
       "      <td>2020.0</td>\n",
       "      <td>DL-3C</td>\n",
       "      <td>Petrol</td>\n",
       "      <td>1st Owner</td>\n",
       "      <td>11,067 km</td>\n",
       "      <td>₹5,65,199</td>\n",
       "      <td>₹11,050/month</td>\n",
       "      <td>Zero Down Payment</td>\n",
       "    </tr>\n",
       "    <tr>\n",
       "      <th>3</th>\n",
       "      <td>3</td>\n",
       "      <td>Maruti Wagon R 1.0</td>\n",
       "      <td>VXI Manual</td>\n",
       "      <td>2013.0</td>\n",
       "      <td>DL-13</td>\n",
       "      <td>Petrol</td>\n",
       "      <td>1st Owner</td>\n",
       "      <td>35,519 km</td>\n",
       "      <td>₹2,78,499</td>\n",
       "      <td>₹5,445/month</td>\n",
       "      <td>Zero Down Payment</td>\n",
       "    </tr>\n",
       "    <tr>\n",
       "      <th>4</th>\n",
       "      <td>4</td>\n",
       "      <td>Maruti Swift</td>\n",
       "      <td>LXI Manual</td>\n",
       "      <td>2020.0</td>\n",
       "      <td>HR-51</td>\n",
       "      <td>Petrol</td>\n",
       "      <td>2nd Owner</td>\n",
       "      <td>16,633 km</td>\n",
       "      <td>₹5,66,499</td>\n",
       "      <td>₹11,075/month</td>\n",
       "      <td>Zero Down Payment</td>\n",
       "    </tr>\n",
       "    <tr>\n",
       "      <th>...</th>\n",
       "      <td>...</td>\n",
       "      <td>...</td>\n",
       "      <td>...</td>\n",
       "      <td>...</td>\n",
       "      <td>...</td>\n",
       "      <td>...</td>\n",
       "      <td>...</td>\n",
       "      <td>...</td>\n",
       "      <td>...</td>\n",
       "      <td>...</td>\n",
       "      <td>...</td>\n",
       "    </tr>\n",
       "    <tr>\n",
       "      <th>5516</th>\n",
       "      <td>5516</td>\n",
       "      <td>Maruti Alto 800</td>\n",
       "      <td>VXI Manual</td>\n",
       "      <td>2015.0</td>\n",
       "      <td>UP-16</td>\n",
       "      <td>Petrol</td>\n",
       "      <td>1st Owner</td>\n",
       "      <td>28,148 km</td>\n",
       "      <td>₹2,81,899</td>\n",
       "      <td>₹5,511/month</td>\n",
       "      <td>Zero Down Payment</td>\n",
       "    </tr>\n",
       "    <tr>\n",
       "      <th>5517</th>\n",
       "      <td>5517</td>\n",
       "      <td>Hyundai Grand i10</td>\n",
       "      <td>MAGNA 1.2 VTVT Manual</td>\n",
       "      <td>2016.0</td>\n",
       "      <td>DL-8C</td>\n",
       "      <td>Petrol + CNG</td>\n",
       "      <td>1st Owner</td>\n",
       "      <td>46,894 km</td>\n",
       "      <td>₹3,98,799</td>\n",
       "      <td>₹7,797/month</td>\n",
       "      <td>Zero Down Payment</td>\n",
       "    </tr>\n",
       "    <tr>\n",
       "      <th>5518</th>\n",
       "      <td>5518</td>\n",
       "      <td>Toyota Etios Liva</td>\n",
       "      <td>G Manual</td>\n",
       "      <td>2014.0</td>\n",
       "      <td>DL-8C</td>\n",
       "      <td>Petrol</td>\n",
       "      <td>2nd Owner</td>\n",
       "      <td>25,753 km</td>\n",
       "      <td>₹3,24,599</td>\n",
       "      <td>₹6,346/month</td>\n",
       "      <td>Zero Down Payment</td>\n",
       "    </tr>\n",
       "    <tr>\n",
       "      <th>5519</th>\n",
       "      <td>5519</td>\n",
       "      <td>Maruti Celerio</td>\n",
       "      <td>VXI CNG Manual</td>\n",
       "      <td>2018.0</td>\n",
       "      <td>DL-9C</td>\n",
       "      <td>Petrol + CNG</td>\n",
       "      <td>1st Owner</td>\n",
       "      <td>61,414 km</td>\n",
       "      <td>₹5,06,299</td>\n",
       "      <td>₹9,898/month</td>\n",
       "      <td>Zero Down Payment</td>\n",
       "    </tr>\n",
       "    <tr>\n",
       "      <th>5520</th>\n",
       "      <td>5520</td>\n",
       "      <td>Maruti Baleno</td>\n",
       "      <td>ALPHA PETROL 1.2</td>\n",
       "      <td>2018.0</td>\n",
       "      <td>DL-12</td>\n",
       "      <td>Petrol</td>\n",
       "      <td>1st Owner</td>\n",
       "      <td>24,674 km</td>\n",
       "      <td>₹6,22,799</td>\n",
       "      <td>₹12,176/month</td>\n",
       "      <td>Zero Down Payment</td>\n",
       "    </tr>\n",
       "  </tbody>\n",
       "</table>\n",
       "<p>5521 rows × 11 columns</p>\n",
       "</div>"
      ],
      "text/plain": [
       "      Unnamed: 0               Brand                         model  \\\n",
       "0              0  Maruti Swift Dzire                    VXI Manual   \n",
       "1              1   Hyundai Grand i10  SPORTZ 1.2 KAPPA VTVT Manual   \n",
       "2              2        Maruti Swift                    LXI Manual   \n",
       "3              3  Maruti Wagon R 1.0                    VXI Manual   \n",
       "4              4        Maruti Swift                    LXI Manual   \n",
       "...          ...                 ...                           ...   \n",
       "5516        5516     Maruti Alto 800                    VXI Manual   \n",
       "5517        5517   Hyundai Grand i10         MAGNA 1.2 VTVT Manual   \n",
       "5518        5518   Toyota Etios Liva                      G Manual   \n",
       "5519        5519      Maruti Celerio                VXI CNG Manual   \n",
       "5520        5520       Maruti Baleno              ALPHA PETROL 1.2   \n",
       "\n",
       "      manufacturing year city/state          fuel      owner         km  \\\n",
       "0                 2010.0      DL-7C        Petrol  1st Owner  29,667 km   \n",
       "1                 2018.0      UP-16        Petrol  2nd Owner   6,875 km   \n",
       "2                 2020.0      DL-3C        Petrol  1st Owner  11,067 km   \n",
       "3                 2013.0      DL-13        Petrol  1st Owner  35,519 km   \n",
       "4                 2020.0      HR-51        Petrol  2nd Owner  16,633 km   \n",
       "...                  ...        ...           ...        ...        ...   \n",
       "5516              2015.0      UP-16        Petrol  1st Owner  28,148 km   \n",
       "5517              2016.0      DL-8C  Petrol + CNG  1st Owner  46,894 km   \n",
       "5518              2014.0      DL-8C        Petrol  2nd Owner  25,753 km   \n",
       "5519              2018.0      DL-9C  Petrol + CNG  1st Owner  61,414 km   \n",
       "5520              2018.0      DL-12        Petrol  1st Owner  24,674 km   \n",
       "\n",
       "          price            EMI       down payment  \n",
       "0     ₹2,51,299   ₹4,913/month  Zero Down Payment  \n",
       "1     ₹5,26,599  ₹10,295/month  Zero Down Payment  \n",
       "2     ₹5,65,199  ₹11,050/month  Zero Down Payment  \n",
       "3     ₹2,78,499   ₹5,445/month  Zero Down Payment  \n",
       "4     ₹5,66,499  ₹11,075/month  Zero Down Payment  \n",
       "...         ...            ...                ...  \n",
       "5516  ₹2,81,899   ₹5,511/month  Zero Down Payment  \n",
       "5517  ₹3,98,799   ₹7,797/month  Zero Down Payment  \n",
       "5518  ₹3,24,599   ₹6,346/month  Zero Down Payment  \n",
       "5519  ₹5,06,299   ₹9,898/month  Zero Down Payment  \n",
       "5520  ₹6,22,799  ₹12,176/month  Zero Down Payment  \n",
       "\n",
       "[5521 rows x 11 columns]"
      ]
     },
     "execution_count": 36,
     "metadata": {},
     "output_type": "execute_result"
    }
   ],
   "source": [
    "#first we load the csv file in which we have saved our scraped data from cars24\n",
    "df=pd.read_csv(r'file:///C:\\Users\\anand\\5000%20cars%20data.csv')\n",
    "df"
   ]
  },
  {
   "cell_type": "markdown",
   "id": "9c9780d9",
   "metadata": {},
   "source": [
    "## Dataframe description:"
   ]
  },
  {
   "cell_type": "markdown",
   "id": "784a9c9a",
   "metadata": {},
   "source": [
    "\n",
    "as we can see that dataframe have 5521 rows and 11 columns. the dataframe has the data of dirrerent used cars of popular cities like delhi, bangalore, chennai, gurgaon, hyderabad, mumbai, pune, etc. it has 11 main column which is mostely used to select a cars and predict the prices like 'brand', 'model', 'manufacturing year', 'city/state', 'fuel type','owner', 'runs a km', 'price(target variable)', 'EMI', 'down payment'. \n",
    "    "
   ]
  },
  {
   "cell_type": "code",
   "execution_count": 37,
   "id": "c570a077",
   "metadata": {},
   "outputs": [
    {
     "name": "stdout",
     "output_type": "stream",
     "text": [
      "<class 'pandas.core.frame.DataFrame'>\n",
      "RangeIndex: 5521 entries, 0 to 5520\n",
      "Data columns (total 11 columns):\n",
      " #   Column              Non-Null Count  Dtype  \n",
      "---  ------              --------------  -----  \n",
      " 0   Unnamed: 0          5521 non-null   int64  \n",
      " 1   Brand               4473 non-null   object \n",
      " 2   model               5521 non-null   object \n",
      " 3   manufacturing year  4473 non-null   float64\n",
      " 4   city/state          4473 non-null   object \n",
      " 5   fuel                4473 non-null   object \n",
      " 6   owner               4473 non-null   object \n",
      " 7   km                  4473 non-null   object \n",
      " 8   price               5521 non-null   object \n",
      " 9   EMI                 4473 non-null   object \n",
      " 10  down payment        5521 non-null   object \n",
      "dtypes: float64(1), int64(1), object(9)\n",
      "memory usage: 474.6+ KB\n"
     ]
    }
   ],
   "source": [
    "df.info()"
   ]
  },
  {
   "cell_type": "code",
   "execution_count": 38,
   "id": "c98c7ad5",
   "metadata": {},
   "outputs": [
    {
     "data": {
      "text/html": [
       "<div>\n",
       "<style scoped>\n",
       "    .dataframe tbody tr th:only-of-type {\n",
       "        vertical-align: middle;\n",
       "    }\n",
       "\n",
       "    .dataframe tbody tr th {\n",
       "        vertical-align: top;\n",
       "    }\n",
       "\n",
       "    .dataframe thead th {\n",
       "        text-align: right;\n",
       "    }\n",
       "</style>\n",
       "<table border=\"1\" class=\"dataframe\">\n",
       "  <thead>\n",
       "    <tr style=\"text-align: right;\">\n",
       "      <th></th>\n",
       "      <th>Unnamed: 0</th>\n",
       "      <th>Brand</th>\n",
       "      <th>model</th>\n",
       "      <th>manufacturing year</th>\n",
       "      <th>city/state</th>\n",
       "      <th>fuel</th>\n",
       "      <th>owner</th>\n",
       "      <th>km</th>\n",
       "      <th>price</th>\n",
       "      <th>EMI</th>\n",
       "      <th>down payment</th>\n",
       "    </tr>\n",
       "  </thead>\n",
       "  <tbody>\n",
       "    <tr>\n",
       "      <th>599</th>\n",
       "      <td>599</td>\n",
       "      <td>Honda WR-V</td>\n",
       "      <td>1.5 i-DTEC VX MT Manual</td>\n",
       "      <td>2018.0</td>\n",
       "      <td>UP-16</td>\n",
       "      <td>Diesel</td>\n",
       "      <td>1st Owner</td>\n",
       "      <td>64,774 km</td>\n",
       "      <td>₹7,21,099</td>\n",
       "      <td>₹14,098/month</td>\n",
       "      <td>Zero Down Payment</td>\n",
       "    </tr>\n",
       "    <tr>\n",
       "      <th>2021</th>\n",
       "      <td>2021</td>\n",
       "      <td>Maruti Alto</td>\n",
       "      <td>LXI Manual</td>\n",
       "      <td>2012.0</td>\n",
       "      <td>AP-12</td>\n",
       "      <td>Petrol</td>\n",
       "      <td>2nd Owner</td>\n",
       "      <td>41,338 km</td>\n",
       "      <td>₹2,15,199</td>\n",
       "      <td>₹4,207/month</td>\n",
       "      <td>Zero Down Payment</td>\n",
       "    </tr>\n",
       "    <tr>\n",
       "      <th>4614</th>\n",
       "      <td>4614</td>\n",
       "      <td>Ford Ecosport</td>\n",
       "      <td>1.0 TREND+ (ECOBOOST) Manual</td>\n",
       "      <td>2016.0</td>\n",
       "      <td>DL-10</td>\n",
       "      <td>Petrol</td>\n",
       "      <td>2nd Owner</td>\n",
       "      <td>58,070 km</td>\n",
       "      <td>₹6,15,499</td>\n",
       "      <td>₹12,033/month</td>\n",
       "      <td>Zero Down Payment</td>\n",
       "    </tr>\n",
       "    <tr>\n",
       "      <th>3425</th>\n",
       "      <td>3425</td>\n",
       "      <td>NaN</td>\n",
       "      <td>1.4 LONGITUDE (O) AT Automatic</td>\n",
       "      <td>NaN</td>\n",
       "      <td>NaN</td>\n",
       "      <td>NaN</td>\n",
       "      <td>NaN</td>\n",
       "      <td>NaN</td>\n",
       "      <td>₹19,22,799</td>\n",
       "      <td>NaN</td>\n",
       "      <td>Zero Down Payment</td>\n",
       "    </tr>\n",
       "    <tr>\n",
       "      <th>2474</th>\n",
       "      <td>2474</td>\n",
       "      <td>Maruti Swift</td>\n",
       "      <td>ZDI AMT Automatic</td>\n",
       "      <td>2018.0</td>\n",
       "      <td>TS-08</td>\n",
       "      <td>Diesel</td>\n",
       "      <td>1st Owner</td>\n",
       "      <td>43,550 km</td>\n",
       "      <td>₹7,44,699</td>\n",
       "      <td>₹14,559/month</td>\n",
       "      <td>Zero Down Payment</td>\n",
       "    </tr>\n",
       "    <tr>\n",
       "      <th>4211</th>\n",
       "      <td>4211</td>\n",
       "      <td>NaN</td>\n",
       "      <td>VXI OPT Manual</td>\n",
       "      <td>NaN</td>\n",
       "      <td>NaN</td>\n",
       "      <td>NaN</td>\n",
       "      <td>NaN</td>\n",
       "      <td>NaN</td>\n",
       "      <td>₹3,60,699</td>\n",
       "      <td>NaN</td>\n",
       "      <td>Zero Down Payment</td>\n",
       "    </tr>\n",
       "    <tr>\n",
       "      <th>2047</th>\n",
       "      <td>2047</td>\n",
       "      <td>Maruti Swift Dzire</td>\n",
       "      <td>VDI OPT Manual</td>\n",
       "      <td>2017.0</td>\n",
       "      <td>TS-08</td>\n",
       "      <td>Diesel</td>\n",
       "      <td>2nd Owner</td>\n",
       "      <td>72,884 km</td>\n",
       "      <td>₹6,71,999</td>\n",
       "      <td>₹13,138/month</td>\n",
       "      <td>Zero Down Payment</td>\n",
       "    </tr>\n",
       "    <tr>\n",
       "      <th>3850</th>\n",
       "      <td>3850</td>\n",
       "      <td>NaN</td>\n",
       "      <td>SPORTZ 1.2 Manual</td>\n",
       "      <td>NaN</td>\n",
       "      <td>NaN</td>\n",
       "      <td>NaN</td>\n",
       "      <td>NaN</td>\n",
       "      <td>NaN</td>\n",
       "      <td>₹4,92,199</td>\n",
       "      <td>NaN</td>\n",
       "      <td>Zero Down Payment</td>\n",
       "    </tr>\n",
       "  </tbody>\n",
       "</table>\n",
       "</div>"
      ],
      "text/plain": [
       "      Unnamed: 0               Brand                           model  \\\n",
       "599          599          Honda WR-V         1.5 i-DTEC VX MT Manual   \n",
       "2021        2021         Maruti Alto                      LXI Manual   \n",
       "4614        4614       Ford Ecosport    1.0 TREND+ (ECOBOOST) Manual   \n",
       "3425        3425                 NaN  1.4 LONGITUDE (O) AT Automatic   \n",
       "2474        2474        Maruti Swift               ZDI AMT Automatic   \n",
       "4211        4211                 NaN                  VXI OPT Manual   \n",
       "2047        2047  Maruti Swift Dzire                  VDI OPT Manual   \n",
       "3850        3850                 NaN               SPORTZ 1.2 Manual   \n",
       "\n",
       "      manufacturing year city/state    fuel      owner         km       price  \\\n",
       "599               2018.0      UP-16  Diesel  1st Owner  64,774 km   ₹7,21,099   \n",
       "2021              2012.0      AP-12  Petrol  2nd Owner  41,338 km   ₹2,15,199   \n",
       "4614              2016.0      DL-10  Petrol  2nd Owner  58,070 km   ₹6,15,499   \n",
       "3425                 NaN        NaN     NaN        NaN        NaN  ₹19,22,799   \n",
       "2474              2018.0      TS-08  Diesel  1st Owner  43,550 km   ₹7,44,699   \n",
       "4211                 NaN        NaN     NaN        NaN        NaN   ₹3,60,699   \n",
       "2047              2017.0      TS-08  Diesel  2nd Owner  72,884 km   ₹6,71,999   \n",
       "3850                 NaN        NaN     NaN        NaN        NaN   ₹4,92,199   \n",
       "\n",
       "                EMI       down payment  \n",
       "599   ₹14,098/month  Zero Down Payment  \n",
       "2021   ₹4,207/month  Zero Down Payment  \n",
       "4614  ₹12,033/month  Zero Down Payment  \n",
       "3425            NaN  Zero Down Payment  \n",
       "2474  ₹14,559/month  Zero Down Payment  \n",
       "4211            NaN  Zero Down Payment  \n",
       "2047  ₹13,138/month  Zero Down Payment  \n",
       "3850            NaN  Zero Down Payment  "
      ]
     },
     "execution_count": 38,
     "metadata": {},
     "output_type": "execute_result"
    }
   ],
   "source": [
    "df.sample(8)"
   ]
  },
  {
   "cell_type": "markdown",
   "id": "54bde298",
   "metadata": {},
   "source": [
    "after loading the dataset we should clean our data "
   ]
  },
  {
   "cell_type": "markdown",
   "id": "e1d550b6",
   "metadata": {},
   "source": [
    "## Data cleaning:"
   ]
  },
  {
   "cell_type": "markdown",
   "id": "7c637a96",
   "metadata": {},
   "source": [
    "### check null values:"
   ]
  },
  {
   "cell_type": "code",
   "execution_count": 39,
   "id": "92a6c8cb",
   "metadata": {},
   "outputs": [
    {
     "data": {
      "text/html": [
       "<div>\n",
       "<style scoped>\n",
       "    .dataframe tbody tr th:only-of-type {\n",
       "        vertical-align: middle;\n",
       "    }\n",
       "\n",
       "    .dataframe tbody tr th {\n",
       "        vertical-align: top;\n",
       "    }\n",
       "\n",
       "    .dataframe thead th {\n",
       "        text-align: right;\n",
       "    }\n",
       "</style>\n",
       "<table border=\"1\" class=\"dataframe\">\n",
       "  <thead>\n",
       "    <tr style=\"text-align: right;\">\n",
       "      <th></th>\n",
       "      <th>Unnamed: 0</th>\n",
       "      <th>Brand</th>\n",
       "      <th>model</th>\n",
       "      <th>manufacturing year</th>\n",
       "      <th>city/state</th>\n",
       "      <th>fuel</th>\n",
       "      <th>owner</th>\n",
       "      <th>km</th>\n",
       "      <th>price</th>\n",
       "      <th>EMI</th>\n",
       "      <th>down payment</th>\n",
       "    </tr>\n",
       "  </thead>\n",
       "  <tbody>\n",
       "    <tr>\n",
       "      <th>0</th>\n",
       "      <td>False</td>\n",
       "      <td>False</td>\n",
       "      <td>False</td>\n",
       "      <td>False</td>\n",
       "      <td>False</td>\n",
       "      <td>False</td>\n",
       "      <td>False</td>\n",
       "      <td>False</td>\n",
       "      <td>False</td>\n",
       "      <td>False</td>\n",
       "      <td>False</td>\n",
       "    </tr>\n",
       "    <tr>\n",
       "      <th>1</th>\n",
       "      <td>False</td>\n",
       "      <td>False</td>\n",
       "      <td>False</td>\n",
       "      <td>False</td>\n",
       "      <td>False</td>\n",
       "      <td>False</td>\n",
       "      <td>False</td>\n",
       "      <td>False</td>\n",
       "      <td>False</td>\n",
       "      <td>False</td>\n",
       "      <td>False</td>\n",
       "    </tr>\n",
       "    <tr>\n",
       "      <th>2</th>\n",
       "      <td>False</td>\n",
       "      <td>False</td>\n",
       "      <td>False</td>\n",
       "      <td>False</td>\n",
       "      <td>False</td>\n",
       "      <td>False</td>\n",
       "      <td>False</td>\n",
       "      <td>False</td>\n",
       "      <td>False</td>\n",
       "      <td>False</td>\n",
       "      <td>False</td>\n",
       "    </tr>\n",
       "    <tr>\n",
       "      <th>3</th>\n",
       "      <td>False</td>\n",
       "      <td>False</td>\n",
       "      <td>False</td>\n",
       "      <td>False</td>\n",
       "      <td>False</td>\n",
       "      <td>False</td>\n",
       "      <td>False</td>\n",
       "      <td>False</td>\n",
       "      <td>False</td>\n",
       "      <td>False</td>\n",
       "      <td>False</td>\n",
       "    </tr>\n",
       "    <tr>\n",
       "      <th>4</th>\n",
       "      <td>False</td>\n",
       "      <td>False</td>\n",
       "      <td>False</td>\n",
       "      <td>False</td>\n",
       "      <td>False</td>\n",
       "      <td>False</td>\n",
       "      <td>False</td>\n",
       "      <td>False</td>\n",
       "      <td>False</td>\n",
       "      <td>False</td>\n",
       "      <td>False</td>\n",
       "    </tr>\n",
       "    <tr>\n",
       "      <th>...</th>\n",
       "      <td>...</td>\n",
       "      <td>...</td>\n",
       "      <td>...</td>\n",
       "      <td>...</td>\n",
       "      <td>...</td>\n",
       "      <td>...</td>\n",
       "      <td>...</td>\n",
       "      <td>...</td>\n",
       "      <td>...</td>\n",
       "      <td>...</td>\n",
       "      <td>...</td>\n",
       "    </tr>\n",
       "    <tr>\n",
       "      <th>5516</th>\n",
       "      <td>False</td>\n",
       "      <td>False</td>\n",
       "      <td>False</td>\n",
       "      <td>False</td>\n",
       "      <td>False</td>\n",
       "      <td>False</td>\n",
       "      <td>False</td>\n",
       "      <td>False</td>\n",
       "      <td>False</td>\n",
       "      <td>False</td>\n",
       "      <td>False</td>\n",
       "    </tr>\n",
       "    <tr>\n",
       "      <th>5517</th>\n",
       "      <td>False</td>\n",
       "      <td>False</td>\n",
       "      <td>False</td>\n",
       "      <td>False</td>\n",
       "      <td>False</td>\n",
       "      <td>False</td>\n",
       "      <td>False</td>\n",
       "      <td>False</td>\n",
       "      <td>False</td>\n",
       "      <td>False</td>\n",
       "      <td>False</td>\n",
       "    </tr>\n",
       "    <tr>\n",
       "      <th>5518</th>\n",
       "      <td>False</td>\n",
       "      <td>False</td>\n",
       "      <td>False</td>\n",
       "      <td>False</td>\n",
       "      <td>False</td>\n",
       "      <td>False</td>\n",
       "      <td>False</td>\n",
       "      <td>False</td>\n",
       "      <td>False</td>\n",
       "      <td>False</td>\n",
       "      <td>False</td>\n",
       "    </tr>\n",
       "    <tr>\n",
       "      <th>5519</th>\n",
       "      <td>False</td>\n",
       "      <td>False</td>\n",
       "      <td>False</td>\n",
       "      <td>False</td>\n",
       "      <td>False</td>\n",
       "      <td>False</td>\n",
       "      <td>False</td>\n",
       "      <td>False</td>\n",
       "      <td>False</td>\n",
       "      <td>False</td>\n",
       "      <td>False</td>\n",
       "    </tr>\n",
       "    <tr>\n",
       "      <th>5520</th>\n",
       "      <td>False</td>\n",
       "      <td>False</td>\n",
       "      <td>False</td>\n",
       "      <td>False</td>\n",
       "      <td>False</td>\n",
       "      <td>False</td>\n",
       "      <td>False</td>\n",
       "      <td>False</td>\n",
       "      <td>False</td>\n",
       "      <td>False</td>\n",
       "      <td>False</td>\n",
       "    </tr>\n",
       "  </tbody>\n",
       "</table>\n",
       "<p>5521 rows × 11 columns</p>\n",
       "</div>"
      ],
      "text/plain": [
       "      Unnamed: 0  Brand  model  manufacturing year  city/state   fuel  owner  \\\n",
       "0          False  False  False               False       False  False  False   \n",
       "1          False  False  False               False       False  False  False   \n",
       "2          False  False  False               False       False  False  False   \n",
       "3          False  False  False               False       False  False  False   \n",
       "4          False  False  False               False       False  False  False   \n",
       "...          ...    ...    ...                 ...         ...    ...    ...   \n",
       "5516       False  False  False               False       False  False  False   \n",
       "5517       False  False  False               False       False  False  False   \n",
       "5518       False  False  False               False       False  False  False   \n",
       "5519       False  False  False               False       False  False  False   \n",
       "5520       False  False  False               False       False  False  False   \n",
       "\n",
       "         km  price    EMI  down payment  \n",
       "0     False  False  False         False  \n",
       "1     False  False  False         False  \n",
       "2     False  False  False         False  \n",
       "3     False  False  False         False  \n",
       "4     False  False  False         False  \n",
       "...     ...    ...    ...           ...  \n",
       "5516  False  False  False         False  \n",
       "5517  False  False  False         False  \n",
       "5518  False  False  False         False  \n",
       "5519  False  False  False         False  \n",
       "5520  False  False  False         False  \n",
       "\n",
       "[5521 rows x 11 columns]"
      ]
     },
     "execution_count": 39,
     "metadata": {},
     "output_type": "execute_result"
    }
   ],
   "source": [
    "df.isnull()"
   ]
  },
  {
   "cell_type": "code",
   "execution_count": 40,
   "id": "6a9d83c1",
   "metadata": {},
   "outputs": [
    {
     "data": {
      "text/plain": [
       "Unnamed: 0               0\n",
       "Brand                 1048\n",
       "model                    0\n",
       "manufacturing year    1048\n",
       "city/state            1048\n",
       "fuel                  1048\n",
       "owner                 1048\n",
       "km                    1048\n",
       "price                    0\n",
       "EMI                   1048\n",
       "down payment             0\n",
       "dtype: int64"
      ]
     },
     "execution_count": 40,
     "metadata": {},
     "output_type": "execute_result"
    }
   ],
   "source": [
    "df.isnull().sum()"
   ]
  },
  {
   "cell_type": "markdown",
   "id": "3ca383bb",
   "metadata": {},
   "source": [
    "as we can see that our dataset has many null values, and the mainly null values there in brand, manufacturing year, city, fuel, owner, km and EMI and the no. are same."
   ]
  },
  {
   "cell_type": "code",
   "execution_count": 41,
   "id": "284d3129",
   "metadata": {},
   "outputs": [
    {
     "data": {
      "text/plain": [
       "<AxesSubplot:>"
      ]
     },
     "execution_count": 41,
     "metadata": {},
     "output_type": "execute_result"
    },
    {
     "data": {
      "image/png": "[encoded data removed]",
      "text/plain": [
       "<Figure size 1080x576 with 2 Axes>"
      ]
     },
     "metadata": {
      "needs_background": "light"
     },
     "output_type": "display_data"
    }
   ],
   "source": [
    "plt.figure(figsize=(15,8))\n",
    "sns.heatmap(df.isnull())"
   ]
  },
  {
   "cell_type": "markdown",
   "id": "8918bce4",
   "metadata": {},
   "source": [
    "better to remove null columns because they are very large in no. so if we impute that column so it can affect the actual prediction and permormance of the model."
   ]
  },
  {
   "cell_type": "code",
   "execution_count": 42,
   "id": "82835bd6",
   "metadata": {},
   "outputs": [],
   "source": [
    "df.dropna(axis=0,inplace=True)\n"
   ]
  },
  {
   "cell_type": "code",
   "execution_count": 43,
   "id": "6ea5b604",
   "metadata": {},
   "outputs": [
    {
     "data": {
      "text/html": [
       "<div>\n",
       "<style scoped>\n",
       "    .dataframe tbody tr th:only-of-type {\n",
       "        vertical-align: middle;\n",
       "    }\n",
       "\n",
       "    .dataframe tbody tr th {\n",
       "        vertical-align: top;\n",
       "    }\n",
       "\n",
       "    .dataframe thead th {\n",
       "        text-align: right;\n",
       "    }\n",
       "</style>\n",
       "<table border=\"1\" class=\"dataframe\">\n",
       "  <thead>\n",
       "    <tr style=\"text-align: right;\">\n",
       "      <th></th>\n",
       "      <th>Unnamed: 0</th>\n",
       "      <th>Brand</th>\n",
       "      <th>model</th>\n",
       "      <th>manufacturing year</th>\n",
       "      <th>city/state</th>\n",
       "      <th>fuel</th>\n",
       "      <th>owner</th>\n",
       "      <th>km</th>\n",
       "      <th>price</th>\n",
       "      <th>EMI</th>\n",
       "      <th>down payment</th>\n",
       "    </tr>\n",
       "  </thead>\n",
       "  <tbody>\n",
       "    <tr>\n",
       "      <th>0</th>\n",
       "      <td>0</td>\n",
       "      <td>Maruti Swift Dzire</td>\n",
       "      <td>VXI Manual</td>\n",
       "      <td>2010.0</td>\n",
       "      <td>DL-7C</td>\n",
       "      <td>Petrol</td>\n",
       "      <td>1st Owner</td>\n",
       "      <td>29,667 km</td>\n",
       "      <td>₹2,51,299</td>\n",
       "      <td>₹4,913/month</td>\n",
       "      <td>Zero Down Payment</td>\n",
       "    </tr>\n",
       "    <tr>\n",
       "      <th>1</th>\n",
       "      <td>1</td>\n",
       "      <td>Hyundai Grand i10</td>\n",
       "      <td>SPORTZ 1.2 KAPPA VTVT Manual</td>\n",
       "      <td>2018.0</td>\n",
       "      <td>UP-16</td>\n",
       "      <td>Petrol</td>\n",
       "      <td>2nd Owner</td>\n",
       "      <td>6,875 km</td>\n",
       "      <td>₹5,26,599</td>\n",
       "      <td>₹10,295/month</td>\n",
       "      <td>Zero Down Payment</td>\n",
       "    </tr>\n",
       "    <tr>\n",
       "      <th>2</th>\n",
       "      <td>2</td>\n",
       "      <td>Maruti Swift</td>\n",
       "      <td>LXI Manual</td>\n",
       "      <td>2020.0</td>\n",
       "      <td>DL-3C</td>\n",
       "      <td>Petrol</td>\n",
       "      <td>1st Owner</td>\n",
       "      <td>11,067 km</td>\n",
       "      <td>₹5,65,199</td>\n",
       "      <td>₹11,050/month</td>\n",
       "      <td>Zero Down Payment</td>\n",
       "    </tr>\n",
       "    <tr>\n",
       "      <th>3</th>\n",
       "      <td>3</td>\n",
       "      <td>Maruti Wagon R 1.0</td>\n",
       "      <td>VXI Manual</td>\n",
       "      <td>2013.0</td>\n",
       "      <td>DL-13</td>\n",
       "      <td>Petrol</td>\n",
       "      <td>1st Owner</td>\n",
       "      <td>35,519 km</td>\n",
       "      <td>₹2,78,499</td>\n",
       "      <td>₹5,445/month</td>\n",
       "      <td>Zero Down Payment</td>\n",
       "    </tr>\n",
       "    <tr>\n",
       "      <th>4</th>\n",
       "      <td>4</td>\n",
       "      <td>Maruti Swift</td>\n",
       "      <td>LXI Manual</td>\n",
       "      <td>2020.0</td>\n",
       "      <td>HR-51</td>\n",
       "      <td>Petrol</td>\n",
       "      <td>2nd Owner</td>\n",
       "      <td>16,633 km</td>\n",
       "      <td>₹5,66,499</td>\n",
       "      <td>₹11,075/month</td>\n",
       "      <td>Zero Down Payment</td>\n",
       "    </tr>\n",
       "    <tr>\n",
       "      <th>...</th>\n",
       "      <td>...</td>\n",
       "      <td>...</td>\n",
       "      <td>...</td>\n",
       "      <td>...</td>\n",
       "      <td>...</td>\n",
       "      <td>...</td>\n",
       "      <td>...</td>\n",
       "      <td>...</td>\n",
       "      <td>...</td>\n",
       "      <td>...</td>\n",
       "      <td>...</td>\n",
       "    </tr>\n",
       "    <tr>\n",
       "      <th>5516</th>\n",
       "      <td>5516</td>\n",
       "      <td>Maruti Alto 800</td>\n",
       "      <td>VXI Manual</td>\n",
       "      <td>2015.0</td>\n",
       "      <td>UP-16</td>\n",
       "      <td>Petrol</td>\n",
       "      <td>1st Owner</td>\n",
       "      <td>28,148 km</td>\n",
       "      <td>₹2,81,899</td>\n",
       "      <td>₹5,511/month</td>\n",
       "      <td>Zero Down Payment</td>\n",
       "    </tr>\n",
       "    <tr>\n",
       "      <th>5517</th>\n",
       "      <td>5517</td>\n",
       "      <td>Hyundai Grand i10</td>\n",
       "      <td>MAGNA 1.2 VTVT Manual</td>\n",
       "      <td>2016.0</td>\n",
       "      <td>DL-8C</td>\n",
       "      <td>Petrol + CNG</td>\n",
       "      <td>1st Owner</td>\n",
       "      <td>46,894 km</td>\n",
       "      <td>₹3,98,799</td>\n",
       "      <td>₹7,797/month</td>\n",
       "      <td>Zero Down Payment</td>\n",
       "    </tr>\n",
       "    <tr>\n",
       "      <th>5518</th>\n",
       "      <td>5518</td>\n",
       "      <td>Toyota Etios Liva</td>\n",
       "      <td>G Manual</td>\n",
       "      <td>2014.0</td>\n",
       "      <td>DL-8C</td>\n",
       "      <td>Petrol</td>\n",
       "      <td>2nd Owner</td>\n",
       "      <td>25,753 km</td>\n",
       "      <td>₹3,24,599</td>\n",
       "      <td>₹6,346/month</td>\n",
       "      <td>Zero Down Payment</td>\n",
       "    </tr>\n",
       "    <tr>\n",
       "      <th>5519</th>\n",
       "      <td>5519</td>\n",
       "      <td>Maruti Celerio</td>\n",
       "      <td>VXI CNG Manual</td>\n",
       "      <td>2018.0</td>\n",
       "      <td>DL-9C</td>\n",
       "      <td>Petrol + CNG</td>\n",
       "      <td>1st Owner</td>\n",
       "      <td>61,414 km</td>\n",
       "      <td>₹5,06,299</td>\n",
       "      <td>₹9,898/month</td>\n",
       "      <td>Zero Down Payment</td>\n",
       "    </tr>\n",
       "    <tr>\n",
       "      <th>5520</th>\n",
       "      <td>5520</td>\n",
       "      <td>Maruti Baleno</td>\n",
       "      <td>ALPHA PETROL 1.2</td>\n",
       "      <td>2018.0</td>\n",
       "      <td>DL-12</td>\n",
       "      <td>Petrol</td>\n",
       "      <td>1st Owner</td>\n",
       "      <td>24,674 km</td>\n",
       "      <td>₹6,22,799</td>\n",
       "      <td>₹12,176/month</td>\n",
       "      <td>Zero Down Payment</td>\n",
       "    </tr>\n",
       "  </tbody>\n",
       "</table>\n",
       "<p>4473 rows × 11 columns</p>\n",
       "</div>"
      ],
      "text/plain": [
       "      Unnamed: 0               Brand                         model  \\\n",
       "0              0  Maruti Swift Dzire                    VXI Manual   \n",
       "1              1   Hyundai Grand i10  SPORTZ 1.2 KAPPA VTVT Manual   \n",
       "2              2        Maruti Swift                    LXI Manual   \n",
       "3              3  Maruti Wagon R 1.0                    VXI Manual   \n",
       "4              4        Maruti Swift                    LXI Manual   \n",
       "...          ...                 ...                           ...   \n",
       "5516        5516     Maruti Alto 800                    VXI Manual   \n",
       "5517        5517   Hyundai Grand i10         MAGNA 1.2 VTVT Manual   \n",
       "5518        5518   Toyota Etios Liva                      G Manual   \n",
       "5519        5519      Maruti Celerio                VXI CNG Manual   \n",
       "5520        5520       Maruti Baleno              ALPHA PETROL 1.2   \n",
       "\n",
       "      manufacturing year city/state          fuel      owner         km  \\\n",
       "0                 2010.0      DL-7C        Petrol  1st Owner  29,667 km   \n",
       "1                 2018.0      UP-16        Petrol  2nd Owner   6,875 km   \n",
       "2                 2020.0      DL-3C        Petrol  1st Owner  11,067 km   \n",
       "3                 2013.0      DL-13        Petrol  1st Owner  35,519 km   \n",
       "4                 2020.0      HR-51        Petrol  2nd Owner  16,633 km   \n",
       "...                  ...        ...           ...        ...        ...   \n",
       "5516              2015.0      UP-16        Petrol  1st Owner  28,148 km   \n",
       "5517              2016.0      DL-8C  Petrol + CNG  1st Owner  46,894 km   \n",
       "5518              2014.0      DL-8C        Petrol  2nd Owner  25,753 km   \n",
       "5519              2018.0      DL-9C  Petrol + CNG  1st Owner  61,414 km   \n",
       "5520              2018.0      DL-12        Petrol  1st Owner  24,674 km   \n",
       "\n",
       "          price            EMI       down payment  \n",
       "0     ₹2,51,299   ₹4,913/month  Zero Down Payment  \n",
       "1     ₹5,26,599  ₹10,295/month  Zero Down Payment  \n",
       "2     ₹5,65,199  ₹11,050/month  Zero Down Payment  \n",
       "3     ₹2,78,499   ₹5,445/month  Zero Down Payment  \n",
       "4     ₹5,66,499  ₹11,075/month  Zero Down Payment  \n",
       "...         ...            ...                ...  \n",
       "5516  ₹2,81,899   ₹5,511/month  Zero Down Payment  \n",
       "5517  ₹3,98,799   ₹7,797/month  Zero Down Payment  \n",
       "5518  ₹3,24,599   ₹6,346/month  Zero Down Payment  \n",
       "5519  ₹5,06,299   ₹9,898/month  Zero Down Payment  \n",
       "5520  ₹6,22,799  ₹12,176/month  Zero Down Payment  \n",
       "\n",
       "[4473 rows x 11 columns]"
      ]
     },
     "execution_count": 43,
     "metadata": {},
     "output_type": "execute_result"
    }
   ],
   "source": [
    "df"
   ]
  },
  {
   "cell_type": "code",
   "execution_count": 44,
   "id": "b5707a45",
   "metadata": {},
   "outputs": [
    {
     "data": {
      "text/plain": [
       "Unnamed: 0            0\n",
       "Brand                 0\n",
       "model                 0\n",
       "manufacturing year    0\n",
       "city/state            0\n",
       "fuel                  0\n",
       "owner                 0\n",
       "km                    0\n",
       "price                 0\n",
       "EMI                   0\n",
       "down payment          0\n",
       "dtype: int64"
      ]
     },
     "execution_count": 44,
     "metadata": {},
     "output_type": "execute_result"
    }
   ],
   "source": [
    "df.isnull().sum()"
   ]
  },
  {
   "cell_type": "markdown",
   "id": "184cebea",
   "metadata": {},
   "source": [
    "no null values are there."
   ]
  },
  {
   "cell_type": "markdown",
   "id": "1dc660d6",
   "metadata": {},
   "source": [
    "### check duplicates:"
   ]
  },
  {
   "cell_type": "code",
   "execution_count": 45,
   "id": "4738873d",
   "metadata": {},
   "outputs": [
    {
     "data": {
      "text/plain": [
       "0"
      ]
     },
     "execution_count": 45,
     "metadata": {},
     "output_type": "execute_result"
    }
   ],
   "source": [
    "df.duplicated().sum()"
   ]
  },
  {
   "cell_type": "markdown",
   "id": "4c4e5077",
   "metadata": {},
   "source": [
    "##### dataframe has no duplicates values."
   ]
  },
  {
   "cell_type": "code",
   "execution_count": 48,
   "id": "6f947a75",
   "metadata": {},
   "outputs": [
    {
     "name": "stdout",
     "output_type": "stream",
     "text": [
      "<class 'pandas.core.frame.DataFrame'>\n",
      "Int64Index: 4473 entries, 0 to 5520\n",
      "Data columns (total 11 columns):\n",
      " #   Column              Non-Null Count  Dtype  \n",
      "---  ------              --------------  -----  \n",
      " 0   Unnamed: 0          4473 non-null   int64  \n",
      " 1   Brand               4473 non-null   object \n",
      " 2   model               4473 non-null   object \n",
      " 3   manufacturing year  4473 non-null   float64\n",
      " 4   city/state          4473 non-null   object \n",
      " 5   fuel                4473 non-null   object \n",
      " 6   owner               4473 non-null   object \n",
      " 7   km                  4473 non-null   object \n",
      " 8   price               4473 non-null   object \n",
      " 9   EMI                 4473 non-null   object \n",
      " 10  down payment        4473 non-null   object \n",
      "dtypes: float64(1), int64(1), object(9)\n",
      "memory usage: 419.3+ KB\n"
     ]
    }
   ],
   "source": [
    "df.info()"
   ]
  },
  {
   "cell_type": "code",
   "execution_count": 50,
   "id": "597972bf",
   "metadata": {},
   "outputs": [
    {
     "data": {
      "text/plain": [
       "Unnamed: 0            4473\n",
       "Brand                  128\n",
       "model                  735\n",
       "manufacturing year      14\n",
       "city/state             232\n",
       "fuel                     3\n",
       "owner                    3\n",
       "km                    3446\n",
       "price                 3006\n",
       "EMI                   2995\n",
       "down payment             1\n",
       "dtype: int64"
      ]
     },
     "execution_count": 50,
     "metadata": {},
     "output_type": "execute_result"
    }
   ],
   "source": [
    "df.nunique()"
   ]
  },
  {
   "cell_type": "markdown",
   "id": "9ff2ad6e",
   "metadata": {},
   "source": [
    "### Visualisation:"
   ]
  },
  {
   "cell_type": "code",
   "execution_count": 53,
   "id": "fb795cce",
   "metadata": {},
   "outputs": [],
   "source": [
    "def pie_plot(df, cols_list, rows, cols):\n",
    "    fig, axes = plt.subplots(rows, cols)\n",
    "    for ax, col in zip(axes.ravel(), cols_list):\n",
    "        df[col].value_counts().plot(ax=ax, kind='pie', figsize=(15, 15), fontsize=10, autopct='%1.0f%%')\n",
    "        ax.set_title(str(col), fontsize = 12)\n",
    "    plt.show()"
   ]
  },
  {
   "cell_type": "code",
   "execution_count": 59,
   "id": "ae121eba",
   "metadata": {},
   "outputs": [
    {
     "data": {
      "image/png": "[encoded data removed]",
      "text/plain": [
       "<Figure size 1080x1080 with 6 Axes>"
      ]
     },
     "metadata": {
      "needs_background": "light"
     },
     "output_type": "display_data"
    }
   ],
   "source": [
    "pie_plot(df, ['manufacturing year','fuel','owner'],2,3)"
   ]
  },
  {
   "cell_type": "markdown",
   "id": "c2f8a5df",
   "metadata": {},
   "source": [
    "above graph shows that 2018 and 2019 models are more at selling and 1st owner cars are more set to sell it is of 75%, most of the cars are of petrol engine and only 5% are of cng+petrol."
   ]
  },
  {
   "cell_type": "code",
   "execution_count": 62,
   "id": "2daf4a4e",
   "metadata": {},
   "outputs": [
    {
     "name": "stdout",
     "output_type": "stream",
     "text": [
      "Categorical variables:\n",
      "['Brand', 'model', 'city/state', 'fuel', 'owner', 'km', 'price', 'EMI', 'down payment']\n",
      "Integer variables:\n",
      "[]\n",
      "Real variables:\n",
      "['manufacturing year']\n"
     ]
    }
   ],
   "source": [
    "s = (df.dtypes == 'object')\n",
    "object_cols = list(s[s].index)\n",
    "print(\"Categorical variables:\")\n",
    "print(object_cols)\n",
    "\n",
    "s = (df.dtypes == 'int')\n",
    "num_cols = list(s[s].index)\n",
    "print(\"Integer variables:\")\n",
    "print(num_cols)\n",
    "\n",
    "s = (df.dtypes == 'float')\n",
    "num_cols = list(s[s].index)\n",
    "print(\"Real variables:\")\n",
    "print(num_cols)"
   ]
  },
  {
   "cell_type": "code",
   "execution_count": 64,
   "id": "df114add",
   "metadata": {},
   "outputs": [
    {
     "data": {
      "text/plain": [
       "<AxesSubplot:title={'center':'No. Unique values of Categorical Features'}>"
      ]
     },
     "execution_count": 64,
     "metadata": {},
     "output_type": "execute_result"
    },
    {
     "data": {
      "image/png": "[encoded data removed]",
      "text/plain": [
       "<Figure size 1296x432 with 1 Axes>"
      ]
     },
     "metadata": {
      "needs_background": "light"
     },
     "output_type": "display_data"
    }
   ],
   "source": [
    "unique_values = []\n",
    "for col in object_cols:\n",
    "    unique_values.append(df[col].unique().size)\n",
    "plt.figure(figsize=(18,6))\n",
    "plt.title('No. Unique values of Categorical Features')\n",
    "plt.xticks(rotation=90)\n",
    "sns.barplot(x=object_cols,y=unique_values)"
   ]
  },
  {
   "cell_type": "markdown",
   "id": "92ee84a9",
   "metadata": {},
   "source": [
    "## Encoding technique:"
   ]
  },
  {
   "cell_type": "code",
   "execution_count": 65,
   "id": "a8cfff2c",
   "metadata": {},
   "outputs": [
    {
     "data": {
      "text/plain": [
       "Index(['Unnamed: 0', 'Brand', 'model', 'manufacturing year', 'city/state',\n",
       "       'fuel', 'owner', 'km', 'price', 'EMI', 'down payment'],\n",
       "      dtype='object')"
      ]
     },
     "execution_count": 65,
     "metadata": {},
     "output_type": "execute_result"
    }
   ],
   "source": [
    "df.columns"
   ]
  },
  {
   "cell_type": "markdown",
   "id": "ef1fda5b",
   "metadata": {},
   "source": [
    "drop the unneccesory column."
   ]
  },
  {
   "cell_type": "code",
   "execution_count": 67,
   "id": "b8650bd5",
   "metadata": {},
   "outputs": [],
   "source": [
    "df.drop([\"Unnamed: 0\"],axis=1,inplace=True)\n",
    "\n",
    "df.drop([\"down payment\"],axis=1,inplace=True)"
   ]
  },
  {
   "cell_type": "markdown",
   "id": "3cba2ee5",
   "metadata": {},
   "source": [
    "Label Encoding:\n",
    "is a popular encoding technique for handling categorical variables. In this technique, each label is assigned a unique integer based on alphabetical ordering.\n",
    "\n",
    "Label Encoding challenges:\n",
    "there is a very high probability that the model captures the relationship between values like they were ordinal which isn't suitble for example for ocean proximity here."
   ]
  },
  {
   "cell_type": "code",
   "execution_count": 69,
   "id": "563556b3",
   "metadata": {},
   "outputs": [
    {
     "data": {
      "text/html": [
       "<div>\n",
       "<style scoped>\n",
       "    .dataframe tbody tr th:only-of-type {\n",
       "        vertical-align: middle;\n",
       "    }\n",
       "\n",
       "    .dataframe tbody tr th {\n",
       "        vertical-align: top;\n",
       "    }\n",
       "\n",
       "    .dataframe thead th {\n",
       "        text-align: right;\n",
       "    }\n",
       "</style>\n",
       "<table border=\"1\" class=\"dataframe\">\n",
       "  <thead>\n",
       "    <tr style=\"text-align: right;\">\n",
       "      <th></th>\n",
       "      <th>Brand</th>\n",
       "      <th>model</th>\n",
       "      <th>manufacturing year</th>\n",
       "      <th>city/state</th>\n",
       "      <th>fuel</th>\n",
       "      <th>owner</th>\n",
       "      <th>km</th>\n",
       "      <th>price</th>\n",
       "      <th>EMI</th>\n",
       "    </tr>\n",
       "  </thead>\n",
       "  <tbody>\n",
       "    <tr>\n",
       "      <th>0</th>\n",
       "      <td>79</td>\n",
       "      <td>586</td>\n",
       "      <td>1</td>\n",
       "      <td>30</td>\n",
       "      <td>1</td>\n",
       "      <td>0</td>\n",
       "      <td>1072</td>\n",
       "      <td>583</td>\n",
       "      <td>1964</td>\n",
       "    </tr>\n",
       "    <tr>\n",
       "      <th>1</th>\n",
       "      <td>29</td>\n",
       "      <td>488</td>\n",
       "      <td>9</td>\n",
       "      <td>217</td>\n",
       "      <td>1</td>\n",
       "      <td>1</td>\n",
       "      <td>2482</td>\n",
       "      <td>1705</td>\n",
       "      <td>79</td>\n",
       "    </tr>\n",
       "    <tr>\n",
       "      <th>2</th>\n",
       "      <td>78</td>\n",
       "      <td>362</td>\n",
       "      <td>11</td>\n",
       "      <td>26</td>\n",
       "      <td>1</td>\n",
       "      <td>0</td>\n",
       "      <td>79</td>\n",
       "      <td>1883</td>\n",
       "      <td>257</td>\n",
       "    </tr>\n",
       "    <tr>\n",
       "      <th>3</th>\n",
       "      <td>82</td>\n",
       "      <td>586</td>\n",
       "      <td>4</td>\n",
       "      <td>22</td>\n",
       "      <td>1</td>\n",
       "      <td>0</td>\n",
       "      <td>1373</td>\n",
       "      <td>638</td>\n",
       "      <td>2021</td>\n",
       "    </tr>\n",
       "    <tr>\n",
       "      <th>4</th>\n",
       "      <td>78</td>\n",
       "      <td>362</td>\n",
       "      <td>11</td>\n",
       "      <td>62</td>\n",
       "      <td>1</td>\n",
       "      <td>1</td>\n",
       "      <td>376</td>\n",
       "      <td>1889</td>\n",
       "      <td>263</td>\n",
       "    </tr>\n",
       "    <tr>\n",
       "      <th>...</th>\n",
       "      <td>...</td>\n",
       "      <td>...</td>\n",
       "      <td>...</td>\n",
       "      <td>...</td>\n",
       "      <td>...</td>\n",
       "      <td>...</td>\n",
       "      <td>...</td>\n",
       "      <td>...</td>\n",
       "      <td>...</td>\n",
       "    </tr>\n",
       "    <tr>\n",
       "      <th>5516</th>\n",
       "      <td>63</td>\n",
       "      <td>586</td>\n",
       "      <td>6</td>\n",
       "      <td>217</td>\n",
       "      <td>1</td>\n",
       "      <td>0</td>\n",
       "      <td>978</td>\n",
       "      <td>649</td>\n",
       "      <td>2032</td>\n",
       "    </tr>\n",
       "    <tr>\n",
       "      <th>5517</th>\n",
       "      <td>29</td>\n",
       "      <td>377</td>\n",
       "      <td>7</td>\n",
       "      <td>31</td>\n",
       "      <td>2</td>\n",
       "      <td>0</td>\n",
       "      <td>1887</td>\n",
       "      <td>1103</td>\n",
       "      <td>2473</td>\n",
       "    </tr>\n",
       "    <tr>\n",
       "      <th>5518</th>\n",
       "      <td>116</td>\n",
       "      <td>285</td>\n",
       "      <td>5</td>\n",
       "      <td>31</td>\n",
       "      <td>1</td>\n",
       "      <td>1</td>\n",
       "      <td>855</td>\n",
       "      <td>804</td>\n",
       "      <td>2174</td>\n",
       "    </tr>\n",
       "    <tr>\n",
       "      <th>5519</th>\n",
       "      <td>66</td>\n",
       "      <td>583</td>\n",
       "      <td>9</td>\n",
       "      <td>32</td>\n",
       "      <td>2</td>\n",
       "      <td>0</td>\n",
       "      <td>2539</td>\n",
       "      <td>1600</td>\n",
       "      <td>2969</td>\n",
       "    </tr>\n",
       "    <tr>\n",
       "      <th>5520</th>\n",
       "      <td>65</td>\n",
       "      <td>196</td>\n",
       "      <td>9</td>\n",
       "      <td>21</td>\n",
       "      <td>1</td>\n",
       "      <td>0</td>\n",
       "      <td>807</td>\n",
       "      <td>2096</td>\n",
       "      <td>470</td>\n",
       "    </tr>\n",
       "  </tbody>\n",
       "</table>\n",
       "<p>4473 rows × 9 columns</p>\n",
       "</div>"
      ],
      "text/plain": [
       "      Brand  model  manufacturing year  city/state  fuel  owner    km  price  \\\n",
       "0        79    586                   1          30     1      0  1072    583   \n",
       "1        29    488                   9         217     1      1  2482   1705   \n",
       "2        78    362                  11          26     1      0    79   1883   \n",
       "3        82    586                   4          22     1      0  1373    638   \n",
       "4        78    362                  11          62     1      1   376   1889   \n",
       "...     ...    ...                 ...         ...   ...    ...   ...    ...   \n",
       "5516     63    586                   6         217     1      0   978    649   \n",
       "5517     29    377                   7          31     2      0  1887   1103   \n",
       "5518    116    285                   5          31     1      1   855    804   \n",
       "5519     66    583                   9          32     2      0  2539   1600   \n",
       "5520     65    196                   9          21     1      0   807   2096   \n",
       "\n",
       "       EMI  \n",
       "0     1964  \n",
       "1       79  \n",
       "2      257  \n",
       "3     2021  \n",
       "4      263  \n",
       "...    ...  \n",
       "5516  2032  \n",
       "5517  2473  \n",
       "5518  2174  \n",
       "5519  2969  \n",
       "5520   470  \n",
       "\n",
       "[4473 rows x 9 columns]"
      ]
     },
     "execution_count": 69,
     "metadata": {},
     "output_type": "execute_result"
    }
   ],
   "source": [
    "# Import label encoder\n",
    "from sklearn import preprocessing\n",
    "  \n",
    "# label_encoder object knows how to understand word labels.\n",
    "label_encoder = preprocessing.LabelEncoder()\n",
    "  \n",
    "# Encode labels in column 'species'.\n",
    "df['Brand']= label_encoder.fit_transform(df['Brand'])\n",
    "df['model']= label_encoder.fit_transform(df['model'])\n",
    "df['manufacturing year']= label_encoder.fit_transform(df['manufacturing year'])\n",
    "df['city/state']= label_encoder.fit_transform(df['city/state'])\n",
    "df['fuel']= label_encoder.fit_transform(df['fuel'])\n",
    "df['owner']= label_encoder.fit_transform(df['owner'])\n",
    "df['km']= label_encoder.fit_transform(df['km'])\n",
    "df['EMI']= label_encoder.fit_transform(df['EMI'])\n",
    "df['price']= label_encoder.fit_transform(df['price'])\n",
    "df"
   ]
  },
  {
   "cell_type": "markdown",
   "id": "5fd78a3f",
   "metadata": {},
   "source": [
    "As we all know a car's brand really affects it's price so we'll be also encoding car names into usable variables by the model this will increase the dataframe size but will be really relevant for our analysis."
   ]
  },
  {
   "cell_type": "markdown",
   "id": "ba5bb077",
   "metadata": {},
   "source": [
    "### descriptive satatstics:"
   ]
  },
  {
   "cell_type": "code",
   "execution_count": 70,
   "id": "a923d6d2",
   "metadata": {},
   "outputs": [
    {
     "data": {
      "text/html": [
       "<div>\n",
       "<style scoped>\n",
       "    .dataframe tbody tr th:only-of-type {\n",
       "        vertical-align: middle;\n",
       "    }\n",
       "\n",
       "    .dataframe tbody tr th {\n",
       "        vertical-align: top;\n",
       "    }\n",
       "\n",
       "    .dataframe thead th {\n",
       "        text-align: right;\n",
       "    }\n",
       "</style>\n",
       "<table border=\"1\" class=\"dataframe\">\n",
       "  <thead>\n",
       "    <tr style=\"text-align: right;\">\n",
       "      <th></th>\n",
       "      <th>Brand</th>\n",
       "      <th>model</th>\n",
       "      <th>manufacturing year</th>\n",
       "      <th>city/state</th>\n",
       "      <th>fuel</th>\n",
       "      <th>owner</th>\n",
       "      <th>km</th>\n",
       "      <th>price</th>\n",
       "      <th>EMI</th>\n",
       "    </tr>\n",
       "  </thead>\n",
       "  <tbody>\n",
       "    <tr>\n",
       "      <th>count</th>\n",
       "      <td>4473.000000</td>\n",
       "      <td>4473.000000</td>\n",
       "      <td>4473.00000</td>\n",
       "      <td>4473.000000</td>\n",
       "      <td>4473.000000</td>\n",
       "      <td>4473.000000</td>\n",
       "      <td>4473.000000</td>\n",
       "      <td>4473.000000</td>\n",
       "      <td>4473.000000</td>\n",
       "    </tr>\n",
       "    <tr>\n",
       "      <th>mean</th>\n",
       "      <td>58.360385</td>\n",
       "      <td>395.756986</td>\n",
       "      <td>8.55019</td>\n",
       "      <td>98.287056</td>\n",
       "      <td>0.897608</td>\n",
       "      <td>0.252850</td>\n",
       "      <td>1690.148670</td>\n",
       "      <td>1526.247038</td>\n",
       "      <td>1490.156718</td>\n",
       "    </tr>\n",
       "    <tr>\n",
       "      <th>std</th>\n",
       "      <td>30.009133</td>\n",
       "      <td>206.742354</td>\n",
       "      <td>2.70439</td>\n",
       "      <td>66.105636</td>\n",
       "      <td>0.437279</td>\n",
       "      <td>0.462606</td>\n",
       "      <td>997.217138</td>\n",
       "      <td>839.855975</td>\n",
       "      <td>893.690255</td>\n",
       "    </tr>\n",
       "    <tr>\n",
       "      <th>min</th>\n",
       "      <td>0.000000</td>\n",
       "      <td>0.000000</td>\n",
       "      <td>0.00000</td>\n",
       "      <td>0.000000</td>\n",
       "      <td>0.000000</td>\n",
       "      <td>0.000000</td>\n",
       "      <td>0.000000</td>\n",
       "      <td>0.000000</td>\n",
       "      <td>0.000000</td>\n",
       "    </tr>\n",
       "    <tr>\n",
       "      <th>25%</th>\n",
       "      <td>29.000000</td>\n",
       "      <td>236.000000</td>\n",
       "      <td>7.00000</td>\n",
       "      <td>32.000000</td>\n",
       "      <td>1.000000</td>\n",
       "      <td>0.000000</td>\n",
       "      <td>826.000000</td>\n",
       "      <td>822.000000</td>\n",
       "      <td>696.000000</td>\n",
       "    </tr>\n",
       "    <tr>\n",
       "      <th>50%</th>\n",
       "      <td>64.000000</td>\n",
       "      <td>390.000000</td>\n",
       "      <td>9.00000</td>\n",
       "      <td>77.000000</td>\n",
       "      <td>1.000000</td>\n",
       "      <td>0.000000</td>\n",
       "      <td>1665.000000</td>\n",
       "      <td>1549.000000</td>\n",
       "      <td>1473.000000</td>\n",
       "    </tr>\n",
       "    <tr>\n",
       "      <th>75%</th>\n",
       "      <td>78.000000</td>\n",
       "      <td>586.000000</td>\n",
       "      <td>11.00000</td>\n",
       "      <td>146.000000</td>\n",
       "      <td>1.000000</td>\n",
       "      <td>0.000000</td>\n",
       "      <td>2552.000000</td>\n",
       "      <td>2223.000000</td>\n",
       "      <td>2282.000000</td>\n",
       "    </tr>\n",
       "    <tr>\n",
       "      <th>max</th>\n",
       "      <td>127.000000</td>\n",
       "      <td>734.000000</td>\n",
       "      <td>13.00000</td>\n",
       "      <td>231.000000</td>\n",
       "      <td>2.000000</td>\n",
       "      <td>2.000000</td>\n",
       "      <td>3445.000000</td>\n",
       "      <td>3005.000000</td>\n",
       "      <td>2994.000000</td>\n",
       "    </tr>\n",
       "  </tbody>\n",
       "</table>\n",
       "</div>"
      ],
      "text/plain": [
       "             Brand        model  manufacturing year   city/state         fuel  \\\n",
       "count  4473.000000  4473.000000          4473.00000  4473.000000  4473.000000   \n",
       "mean     58.360385   395.756986             8.55019    98.287056     0.897608   \n",
       "std      30.009133   206.742354             2.70439    66.105636     0.437279   \n",
       "min       0.000000     0.000000             0.00000     0.000000     0.000000   \n",
       "25%      29.000000   236.000000             7.00000    32.000000     1.000000   \n",
       "50%      64.000000   390.000000             9.00000    77.000000     1.000000   \n",
       "75%      78.000000   586.000000            11.00000   146.000000     1.000000   \n",
       "max     127.000000   734.000000            13.00000   231.000000     2.000000   \n",
       "\n",
       "             owner           km        price          EMI  \n",
       "count  4473.000000  4473.000000  4473.000000  4473.000000  \n",
       "mean      0.252850  1690.148670  1526.247038  1490.156718  \n",
       "std       0.462606   997.217138   839.855975   893.690255  \n",
       "min       0.000000     0.000000     0.000000     0.000000  \n",
       "25%       0.000000   826.000000   822.000000   696.000000  \n",
       "50%       0.000000  1665.000000  1549.000000  1473.000000  \n",
       "75%       0.000000  2552.000000  2223.000000  2282.000000  \n",
       "max       2.000000  3445.000000  3005.000000  2994.000000  "
      ]
     },
     "execution_count": 70,
     "metadata": {},
     "output_type": "execute_result"
    }
   ],
   "source": [
    "df.describe()"
   ]
  },
  {
   "cell_type": "markdown",
   "id": "b3cf8194",
   "metadata": {},
   "source": [
    "## Correlation:"
   ]
  },
  {
   "cell_type": "code",
   "execution_count": 71,
   "id": "992b1b42",
   "metadata": {},
   "outputs": [
    {
     "data": {
      "text/html": [
       "<div>\n",
       "<style scoped>\n",
       "    .dataframe tbody tr th:only-of-type {\n",
       "        vertical-align: middle;\n",
       "    }\n",
       "\n",
       "    .dataframe tbody tr th {\n",
       "        vertical-align: top;\n",
       "    }\n",
       "\n",
       "    .dataframe thead th {\n",
       "        text-align: right;\n",
       "    }\n",
       "</style>\n",
       "<table border=\"1\" class=\"dataframe\">\n",
       "  <thead>\n",
       "    <tr style=\"text-align: right;\">\n",
       "      <th></th>\n",
       "      <th>Brand</th>\n",
       "      <th>model</th>\n",
       "      <th>manufacturing year</th>\n",
       "      <th>city/state</th>\n",
       "      <th>fuel</th>\n",
       "      <th>owner</th>\n",
       "      <th>km</th>\n",
       "      <th>price</th>\n",
       "      <th>EMI</th>\n",
       "    </tr>\n",
       "  </thead>\n",
       "  <tbody>\n",
       "    <tr>\n",
       "      <th>Brand</th>\n",
       "      <td>1.000000</td>\n",
       "      <td>0.369616</td>\n",
       "      <td>0.138481</td>\n",
       "      <td>-0.070128</td>\n",
       "      <td>0.034593</td>\n",
       "      <td>-0.046964</td>\n",
       "      <td>-0.037562</td>\n",
       "      <td>0.007437</td>\n",
       "      <td>0.030792</td>\n",
       "    </tr>\n",
       "    <tr>\n",
       "      <th>model</th>\n",
       "      <td>0.369616</td>\n",
       "      <td>1.000000</td>\n",
       "      <td>-0.022160</td>\n",
       "      <td>-0.022014</td>\n",
       "      <td>-0.010901</td>\n",
       "      <td>-0.007209</td>\n",
       "      <td>0.006389</td>\n",
       "      <td>-0.008929</td>\n",
       "      <td>0.055270</td>\n",
       "    </tr>\n",
       "    <tr>\n",
       "      <th>manufacturing year</th>\n",
       "      <td>0.138481</td>\n",
       "      <td>-0.022160</td>\n",
       "      <td>1.000000</td>\n",
       "      <td>0.102283</td>\n",
       "      <td>0.008128</td>\n",
       "      <td>-0.185757</td>\n",
       "      <td>-0.251216</td>\n",
       "      <td>0.198758</td>\n",
       "      <td>-0.247548</td>\n",
       "    </tr>\n",
       "    <tr>\n",
       "      <th>city/state</th>\n",
       "      <td>-0.070128</td>\n",
       "      <td>-0.022014</td>\n",
       "      <td>0.102283</td>\n",
       "      <td>1.000000</td>\n",
       "      <td>-0.117216</td>\n",
       "      <td>0.023723</td>\n",
       "      <td>0.065831</td>\n",
       "      <td>-0.001021</td>\n",
       "      <td>-0.057717</td>\n",
       "    </tr>\n",
       "    <tr>\n",
       "      <th>fuel</th>\n",
       "      <td>0.034593</td>\n",
       "      <td>-0.010901</td>\n",
       "      <td>0.008128</td>\n",
       "      <td>-0.117216</td>\n",
       "      <td>1.000000</td>\n",
       "      <td>-0.026745</td>\n",
       "      <td>-0.126131</td>\n",
       "      <td>0.060010</td>\n",
       "      <td>0.035726</td>\n",
       "    </tr>\n",
       "    <tr>\n",
       "      <th>owner</th>\n",
       "      <td>-0.046964</td>\n",
       "      <td>-0.007209</td>\n",
       "      <td>-0.185757</td>\n",
       "      <td>0.023723</td>\n",
       "      <td>-0.026745</td>\n",
       "      <td>1.000000</td>\n",
       "      <td>0.081470</td>\n",
       "      <td>-0.017081</td>\n",
       "      <td>0.021780</td>\n",
       "    </tr>\n",
       "    <tr>\n",
       "      <th>km</th>\n",
       "      <td>-0.037562</td>\n",
       "      <td>0.006389</td>\n",
       "      <td>-0.251216</td>\n",
       "      <td>0.065831</td>\n",
       "      <td>-0.126131</td>\n",
       "      <td>0.081470</td>\n",
       "      <td>1.000000</td>\n",
       "      <td>-0.033114</td>\n",
       "      <td>0.038092</td>\n",
       "    </tr>\n",
       "    <tr>\n",
       "      <th>price</th>\n",
       "      <td>0.007437</td>\n",
       "      <td>-0.008929</td>\n",
       "      <td>0.198758</td>\n",
       "      <td>-0.001021</td>\n",
       "      <td>0.060010</td>\n",
       "      <td>-0.017081</td>\n",
       "      <td>-0.033114</td>\n",
       "      <td>1.000000</td>\n",
       "      <td>-0.492001</td>\n",
       "    </tr>\n",
       "    <tr>\n",
       "      <th>EMI</th>\n",
       "      <td>0.030792</td>\n",
       "      <td>0.055270</td>\n",
       "      <td>-0.247548</td>\n",
       "      <td>-0.057717</td>\n",
       "      <td>0.035726</td>\n",
       "      <td>0.021780</td>\n",
       "      <td>0.038092</td>\n",
       "      <td>-0.492001</td>\n",
       "      <td>1.000000</td>\n",
       "    </tr>\n",
       "  </tbody>\n",
       "</table>\n",
       "</div>"
      ],
      "text/plain": [
       "                       Brand     model  manufacturing year  city/state  \\\n",
       "Brand               1.000000  0.369616            0.138481   -0.070128   \n",
       "model               0.369616  1.000000           -0.022160   -0.022014   \n",
       "manufacturing year  0.138481 -0.022160            1.000000    0.102283   \n",
       "city/state         -0.070128 -0.022014            0.102283    1.000000   \n",
       "fuel                0.034593 -0.010901            0.008128   -0.117216   \n",
       "owner              -0.046964 -0.007209           -0.185757    0.023723   \n",
       "km                 -0.037562  0.006389           -0.251216    0.065831   \n",
       "price               0.007437 -0.008929            0.198758   -0.001021   \n",
       "EMI                 0.030792  0.055270           -0.247548   -0.057717   \n",
       "\n",
       "                        fuel     owner        km     price       EMI  \n",
       "Brand               0.034593 -0.046964 -0.037562  0.007437  0.030792  \n",
       "model              -0.010901 -0.007209  0.006389 -0.008929  0.055270  \n",
       "manufacturing year  0.008128 -0.185757 -0.251216  0.198758 -0.247548  \n",
       "city/state         -0.117216  0.023723  0.065831 -0.001021 -0.057717  \n",
       "fuel                1.000000 -0.026745 -0.126131  0.060010  0.035726  \n",
       "owner              -0.026745  1.000000  0.081470 -0.017081  0.021780  \n",
       "km                 -0.126131  0.081470  1.000000 -0.033114  0.038092  \n",
       "price               0.060010 -0.017081 -0.033114  1.000000 -0.492001  \n",
       "EMI                 0.035726  0.021780  0.038092 -0.492001  1.000000  "
      ]
     },
     "execution_count": 71,
     "metadata": {},
     "output_type": "execute_result"
    }
   ],
   "source": [
    "df.corr()"
   ]
  },
  {
   "cell_type": "code",
   "execution_count": 72,
   "id": "3fee8891",
   "metadata": {},
   "outputs": [
    {
     "data": {
      "text/plain": [
       "<AxesSubplot:>"
      ]
     },
     "execution_count": 72,
     "metadata": {},
     "output_type": "execute_result"
    },
    {
     "data": {
      "image/png": "[encoded data removed]",
      "text/plain": [
       "<Figure size 1080x504 with 2 Axes>"
      ]
     },
     "metadata": {
      "needs_background": "light"
     },
     "output_type": "display_data"
    }
   ],
   "source": [
    "plt.figure(figsize=(15,7))\n",
    "sns.heatmap(df.corr(),annot=True,linewidths=0.5,linecolor='black',fmt='.2f')"
   ]
  },
  {
   "cell_type": "code",
   "execution_count": 73,
   "id": "e556cd58",
   "metadata": {},
   "outputs": [
    {
     "data": {
      "text/plain": [
       "array([[<AxesSubplot:title={'center':'Brand'}>,\n",
       "        <AxesSubplot:title={'center':'model'}>,\n",
       "        <AxesSubplot:title={'center':'manufacturing year'}>],\n",
       "       [<AxesSubplot:title={'center':'city/state'}>,\n",
       "        <AxesSubplot:title={'center':'fuel'}>,\n",
       "        <AxesSubplot:title={'center':'owner'}>],\n",
       "       [<AxesSubplot:title={'center':'km'}>,\n",
       "        <AxesSubplot:title={'center':'price'}>,\n",
       "        <AxesSubplot:title={'center':'EMI'}>]], dtype=object)"
      ]
     },
     "execution_count": 73,
     "metadata": {},
     "output_type": "execute_result"
    },
    {
     "data": {
      "image/png": "[encoded data removed]",
      "text/plain": [
       "<Figure size 1440x720 with 9 Axes>"
      ]
     },
     "metadata": {
      "needs_background": "light"
     },
     "output_type": "display_data"
    }
   ],
   "source": [
    "df.hist(figsize=[20,10])"
   ]
  },
  {
   "cell_type": "markdown",
   "id": "2918244c",
   "metadata": {},
   "source": [
    "## outliers:"
   ]
  },
  {
   "cell_type": "markdown",
   "id": "8a8e4148",
   "metadata": {},
   "source": [
    "An outlier is an observation that lies an abnormal distance from other values in a random sample from a population. In a sense, this definition leaves it up to the analyst (or a consensus process) to decide what will be considered abnormal. Before abnormal observations can be singled out, it is necessary to characterize normal observations. Two activities are essential for characterizing a set of data:\n",
    "\n",
    "Examination of the overall shape of the graphed data for important features, including symmetry and departures from assumptions.\n",
    "Examination of the data for unusual observations that are far removed from the mass of data. These points are often referred to as outliers. Two graphical techniques for identifying outliers, scatter plots and box plots, along with an analytic procedure for detecting outliers when the distribution is normal (Grubbs' Test)"
   ]
  },
  {
   "cell_type": "code",
   "execution_count": 75,
   "id": "bf095de5",
   "metadata": {},
   "outputs": [
    {
     "data": {
      "text/plain": [
       "Index(['Brand', 'model', 'manufacturing year', 'city/state', 'fuel', 'owner',\n",
       "       'km', 'price', 'EMI'],\n",
       "      dtype='object')"
      ]
     },
     "execution_count": 75,
     "metadata": {},
     "output_type": "execute_result"
    }
   ],
   "source": [
    "df.columns"
   ]
  },
  {
   "cell_type": "code",
   "execution_count": 77,
   "id": "7ab8b83f",
   "metadata": {},
   "outputs": [],
   "source": [
    "def box_plot(num_cols):\n",
    "    plt.figure(figsize=(20, 15))\n",
    "    for i in range(len(num_cols)):\n",
    "        if i == 16:\n",
    "            break\n",
    "        else:\n",
    "            plt.subplot(4,4, i+1)\n",
    "            l = num_cols[i]\n",
    "            sns.boxplot(df[l], palette=\"flare\")"
   ]
  },
  {
   "cell_type": "code",
   "execution_count": 78,
   "id": "2069871f",
   "metadata": {},
   "outputs": [
    {
     "data": {
      "image/png": "[encoded data removed]",
      "text/plain": [
       "<Figure size 1440x1080 with 9 Axes>"
      ]
     },
     "metadata": {
      "needs_background": "light"
     },
     "output_type": "display_data"
    }
   ],
   "source": [
    "box_plot(['Brand', 'model', 'manufacturing year', 'city/state', 'fuel', 'owner',\n",
    "       'km', 'price', 'EMI'])"
   ]
  },
  {
   "cell_type": "markdown",
   "id": "0841dc15",
   "metadata": {},
   "source": [
    "Note:\n",
    "Don't get confused about the outliers in the dataset as they are happenning due to exotic cars for special tasks with high performance so we will not be discarding them."
   ]
  },
  {
   "cell_type": "markdown",
   "id": "4eb0afe5",
   "metadata": {},
   "source": [
    "### Summary of Data Preprocessing:\n",
    "The data went through the process of cleaning as follows:\n",
    "\n",
    "Explored and visualized the data\n",
    "Handled categorical data encoding using label encoder which is more suitble for the case"
   ]
  },
  {
   "cell_type": "markdown",
   "id": "ffaf226a",
   "metadata": {},
   "source": [
    "## splitting variable:"
   ]
  },
  {
   "cell_type": "code",
   "execution_count": 79,
   "id": "95762d31",
   "metadata": {},
   "outputs": [],
   "source": [
    "x=df.drop(columns=['price'],axis=1)\n",
    "y=df['price']"
   ]
  },
  {
   "cell_type": "code",
   "execution_count": 80,
   "id": "811bee4c",
   "metadata": {},
   "outputs": [
    {
     "data": {
      "text/plain": [
       "((4473, 8), (4473,))"
      ]
     },
     "execution_count": 80,
     "metadata": {},
     "output_type": "execute_result"
    }
   ],
   "source": [
    "x.shape,y.shape"
   ]
  },
  {
   "cell_type": "markdown",
   "id": "3b8c7f9b",
   "metadata": {},
   "source": [
    "## Transforming the data:"
   ]
  },
  {
   "cell_type": "code",
   "execution_count": 81,
   "id": "682d0f4d",
   "metadata": {},
   "outputs": [],
   "source": [
    "x=power_transform(x,method='yeo-johnson')"
   ]
  },
  {
   "cell_type": "code",
   "execution_count": 82,
   "id": "34613462",
   "metadata": {},
   "outputs": [
    {
     "data": {
      "text/plain": [
       "numpy.ndarray"
      ]
     },
     "execution_count": 82,
     "metadata": {},
     "output_type": "execute_result"
    }
   ],
   "source": [
    "type(x)"
   ]
  },
  {
   "cell_type": "code",
   "execution_count": 83,
   "id": "dc99b3f6",
   "metadata": {},
   "outputs": [
    {
     "data": {
      "text/plain": [
       "2"
      ]
     },
     "execution_count": 83,
     "metadata": {},
     "output_type": "execute_result"
    }
   ],
   "source": [
    "x.ndim"
   ]
  },
  {
   "cell_type": "code",
   "execution_count": 84,
   "id": "4174cc4f",
   "metadata": {},
   "outputs": [
    {
     "data": {
      "text/plain": [
       "array([[ 0.71744334,  0.91037237, -2.19534735, ..., -0.56245139,\n",
       "        -0.50797112,  0.58711716],\n",
       "       [-0.95115378,  0.46694968,  0.0737412 , ...,  1.77505033,\n",
       "         0.80599808, -1.87002039],\n",
       "       [ 0.68806561, -0.12011053,  0.94863842, ..., -0.56245139,\n",
       "        -1.92110388, -1.48141333],\n",
       "       ...,\n",
       "       [ 1.7379125 , -0.49112676, -1.32961876, ...,  1.77505033,\n",
       "        -0.75106257,  0.78288181],\n",
       "       [ 0.32605769,  0.8969426 ,  0.0737412 , ..., -0.56245139,\n",
       "         0.85302962,  1.47368711],\n",
       "       [ 0.29503183, -0.9361879 ,  0.0737412 , ..., -0.56245139,\n",
       "        -0.80737915, -1.12656646]])"
      ]
     },
     "execution_count": 84,
     "metadata": {},
     "output_type": "execute_result"
    }
   ],
   "source": [
    "sc=StandardScaler()\n",
    "x=sc.fit_transform(x)\n",
    "x"
   ]
  },
  {
   "cell_type": "code",
   "execution_count": 85,
   "id": "68a976a6",
   "metadata": {},
   "outputs": [
    {
     "data": {
      "text/plain": [
       "-1.429663452233602e-17"
      ]
     },
     "execution_count": 85,
     "metadata": {},
     "output_type": "execute_result"
    }
   ],
   "source": [
    "x.mean()"
   ]
  },
  {
   "cell_type": "code",
   "execution_count": 86,
   "id": "2d79edca",
   "metadata": {},
   "outputs": [
    {
     "data": {
      "text/plain": [
       "0.9999999999999999"
      ]
     },
     "execution_count": 86,
     "metadata": {},
     "output_type": "execute_result"
    }
   ],
   "source": [
    "x.std()"
   ]
  },
  {
   "cell_type": "code",
   "execution_count": 87,
   "id": "2d9f0a8e",
   "metadata": {},
   "outputs": [],
   "source": [
    "x_train,x_test,y_train,y_test =  train_test_split(x,y, test_size =0.25,random_state=100)"
   ]
  },
  {
   "cell_type": "code",
   "execution_count": 88,
   "id": "e7f45b57",
   "metadata": {},
   "outputs": [
    {
     "data": {
      "text/plain": [
       "((3354, 8), (3354,))"
      ]
     },
     "execution_count": 88,
     "metadata": {},
     "output_type": "execute_result"
    }
   ],
   "source": [
    "x_train.shape,y_train.shape"
   ]
  },
  {
   "cell_type": "code",
   "execution_count": 89,
   "id": "fdddecb3",
   "metadata": {},
   "outputs": [
    {
     "data": {
      "text/plain": [
       "((1119, 8), (1119,))"
      ]
     },
     "execution_count": 89,
     "metadata": {},
     "output_type": "execute_result"
    }
   ],
   "source": [
    "x_test.shape,y_test.shape"
   ]
  },
  {
   "cell_type": "markdown",
   "id": "bc5d6e73",
   "metadata": {},
   "source": [
    "## Model building:"
   ]
  },
  {
   "cell_type": "markdown",
   "id": "e00f0a16",
   "metadata": {},
   "source": [
    "The process of modeling means training a machine learning algorithm to predict the labels from the features, tuning it for the business need, and validating it on holdout data. The output from modeling is a trained model that can be used for inference, making predictions on new data points."
   ]
  },
  {
   "cell_type": "markdown",
   "id": "6e41b15b",
   "metadata": {},
   "source": [
    "A machine learning model itself is a file that has been trained to recognize certain types of patterns. You train a model over a set of data, providing it an algorithm that it can use to reason over and learn from those data. Once you have trained the model, you can use it to reason over data that it hasn't seen before, and make predictions about those data. For example, let's say you want to build an application that can recognize a user's emotions based on their facial expressions. You can train a model by providing it with images of faces that are each tagged with a certain emotion, and then you can use that model in an application that can recognize any user's emotion"
   ]
  },
  {
   "cell_type": "markdown",
   "id": "920e2f23",
   "metadata": {},
   "source": [
    "### linear regression:"
   ]
  },
  {
   "cell_type": "markdown",
   "id": "5a95cf5d",
   "metadata": {},
   "source": [
    "Linear regression is a supervised machine learning method that is used by the Train Using AutoML tool and finds a linear equation that best describes the correlation of the explanatory variables with the dependent variable. "
   ]
  },
  {
   "cell_type": "code",
   "execution_count": 90,
   "id": "a2fb8b10",
   "metadata": {},
   "outputs": [
    {
     "data": {
      "text/plain": [
       "(1119,)"
      ]
     },
     "execution_count": 90,
     "metadata": {},
     "output_type": "execute_result"
    }
   ],
   "source": [
    "LR=LinearRegression()\n",
    "LR.fit(x_test,y_test)\n",
    "y_pred=LR.predict(x_test)\n",
    "y_pred.shape"
   ]
  },
  {
   "cell_type": "code",
   "execution_count": 91,
   "id": "b412b5d1",
   "metadata": {},
   "outputs": [
    {
     "name": "stdout",
     "output_type": "stream",
     "text": [
      "R square score 0.2543533605279372\n"
     ]
    }
   ],
   "source": [
    "from sklearn.metrics import r2_score, mean_squared_error,accuracy_score\n",
    "import sklearn.metrics as metrics\n",
    "accuracy=metrics.r2_score(y_test,y_pred)\n",
    "print('R square score',accuracy)"
   ]
  },
  {
   "cell_type": "code",
   "execution_count": 92,
   "id": "806423f4",
   "metadata": {},
   "outputs": [
    {
     "name": "stdout",
     "output_type": "stream",
     "text": [
      "R square score 0.9853885661706011\n"
     ]
    }
   ],
   "source": [
    "ada=AdaBoostRegressor()\n",
    "ada.fit(x_test,y_test)\n",
    "y_pred=ada.predict(x_test)\n",
    "from sklearn.metrics import r2_score, mean_squared_error,accuracy_score\n",
    "import sklearn.metrics as metrics\n",
    "accuracy=metrics.r2_score(y_test,y_pred)\n",
    "print('R square score',accuracy)"
   ]
  },
  {
   "cell_type": "markdown",
   "id": "1c1eac6a",
   "metadata": {},
   "source": [
    "### Lasso regression:\n",
    "The Lasso class takes in a parameter called alpha which represents the strength of the regularization term. A higher alpha value results in a stronger penalty, and therefore fewer features being used in the model. In other words, a higher alpha value such as 1.0 results in more features being removed from the model than a value such as 0.1. The Lasso class also has a fit() method that can be used to fit the model to training data, and a predict() method that can be used to make predictions on new data."
   ]
  },
  {
   "cell_type": "code",
   "execution_count": 94,
   "id": "69e5f411",
   "metadata": {},
   "outputs": [
    {
     "name": "stdout",
     "output_type": "stream",
     "text": [
      "R square score 0.2543402679272835\n"
     ]
    }
   ],
   "source": [
    "from sklearn.linear_model import Lasso\n",
    "las = Lasso().fit(x_test,y_test)\n",
    "y_pred=las.predict(x_test)\n",
    "from sklearn.metrics import r2_score, mean_squared_error,accuracy_score\n",
    "import sklearn.metrics as metrics\n",
    "accuracy=metrics.r2_score(y_test,y_pred)\n",
    "print('R square score',accuracy)"
   ]
  },
  {
   "cell_type": "markdown",
   "id": "2d473fb3",
   "metadata": {},
   "source": [
    "### Ridge regression\n",
    "Ridge regression is used to solving the problem of multicollinearity when the independent variables are highly correlated with each other, and the correlation matrix will be singular and we can’t obtain a unique parameter."
   ]
  },
  {
   "cell_type": "code",
   "execution_count": 97,
   "id": "f009f0f3",
   "metadata": {},
   "outputs": [
    {
     "name": "stdout",
     "output_type": "stream",
     "text": [
      "R square score 0.2543531978891057\n"
     ]
    }
   ],
   "source": [
    "from sklearn.linear_model import Ridge\n",
    "rr = Ridge().fit(x_test,y_test)\n",
    "y_pred=rr.predict(x_test)\n",
    "from sklearn.metrics import r2_score, mean_squared_error,accuracy_score\n",
    "import sklearn.metrics as metrics\n",
    "accuracy=metrics.r2_score(y_test,y_pred)\n",
    "print('R square score',accuracy)"
   ]
  },
  {
   "cell_type": "markdown",
   "id": "ee2749c9",
   "metadata": {},
   "source": [
    "### Conclusions:\n",
    "1.We used several regression models to fit our data and it seems that they all succeeded to fit the data well and this indicated that the data preprocessing stage was also a success but we're still facing the problem of overfitting so I see that all models are truly promising and ready for the next stage of improvement to reduce overfitting.\n",
    "2.Adaboost regression give the best regression model for cars price prediction."
   ]
  }
 ],
 "metadata": {
  "kernelspec": {
   "display_name": "Python 3 (ipykernel)",
   "language": "python",
   "name": "python3"
  },
  "language_info": {
   "codemirror_mode": {
    "name": "ipython",
    "version": 3
   },
   "file_extension": ".py",
   "mimetype": "text/x-python",
   "name": "python",
   "nbconvert_exporter": "python",
   "pygments_lexer": "ipython3",
   "version": "3.9.7"
  }
 },
 "nbformat": 4,
 "nbformat_minor": 5
}
